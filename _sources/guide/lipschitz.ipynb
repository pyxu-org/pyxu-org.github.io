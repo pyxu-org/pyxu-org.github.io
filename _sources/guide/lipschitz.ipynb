{
 "cells": [
  {
   "cell_type": "markdown",
   "id": "6d85e288-a4be-4453-9a9d-b419d68bf088",
   "metadata": {},
   "source": [
    "# Lipschitz Constants and Automatic Step Size Tuning\n",
    "\n",
    "## Introduction to Lipschitz Constants\n",
    "\n",
    "In mathematical terms, a function $f: \\mathbb{R}^n \\rightarrow \\mathbb{R}^m$ is said to be Lipschitz continuous if there exists a constant $L$ such that for every pair of points $x, y \\in \\mathbb{R}^n$, the following inequality holds:\n",
    "\n",
    "$$\n",
    "\\| f(x) - f(y) \\| \\leq L \\| x - y \\|\n",
    "$$\n",
    "\n",
    "This equation essentially states that the change in the function's output cannot be faster than $L$ times the change in the input. In simpler terms, a Lipschitz continuous function doesn't change too abruptly; it has a 'speed limit' defined by its Lipschitz constant ($L$). For more in-depth knowledge, check the [Wikipedia page on Lipschitz Continuity](https://en.wikipedia.org/wiki/Lipschitz_continuity).\n",
    "\n",
    "Lipschitz constants are valuable tools in the realm of optimization, particularly for gradient-based methods like gradient descent. Knowing the Lipschitz constant can help you set an effective step size, thereby ensuring stable and faster convergence. However, computing these constants can be challenging. \n",
    "\n",
    "Good news! Pyxu offers unique features to automatically compute or estimate Lipschitz constants, making your life easier. Let's delve into the details. 🌟\n",
    "\n",
    "## Accessing Lipschitz Constants\n",
    "\n",
    "Pyxu operators come equipped with attributes `lipschitz`[🔗](../api/abc.html#pyxu.abc.Map.lipschitz) and `diff_lipschitz`[🔗](../api/abc.html#pyxu.abc.DiffMap.diff_lipschitz) for storing the Lipschitz constants of a map and its derivative (if defined), respectively. These constants are leveraged under the hood by Pyxu to auto-tune the step sizes in various optimization algorithms.\n",
    "\n",
    "```python\n",
    "# Access Lipschitz constant of an operator 'op'\n",
    "lip_const = op.lipschitz\n",
    "```\n",
    "\n",
    "## Estimating Lipschitz Constants\n",
    "\n",
    "For user-defined or complicated operators where Lipschitz constants are unknown, you can estimate them using Pyxu's `estimate_lipschitz()`[🔗](../api/abc.html#pyxu.abc.Map.estimate_lipschitz) method.\n",
    "\n",
    "```python\n",
    "# Estimate Lipschitz constant and update the attribute\n",
    "op.lipschitz = op.estimate_lipschitz()\n",
    "```\n",
    "\n",
    "### Supported Backends 🎛️\n",
    "\n",
    "Pyxu offers two methods to estimate Lipschitz constants:\n",
    "\n",
    "1. **Trace Method (**`trace`**)**: This is the default and computationally lighter option. It computes a rough estimate using the Frobenius norm of the operator, making use of the [Hutch++ stochastic algorithm](https://arxiv.org/abs/2010.09649):\n",
    "\n",
    "    ```python\n",
    "    # Using trace method\n",
    "    op.lipschitz = op.estimate_lipschitz(method=\"trace\")\n",
    "    \n",
    "    ```\n",
    "\n",
    "\n",
    "2. **SVD Method (**`svd`**)**: This method computes the spectral norm of the operator and generally provides a tighter Lipschitz constant. However, it can be computationally intensive for large operators. A reduced-accuracy mode is available for quicker but slightly overestimated constants:\n",
    "\n",
    "    ```python\n",
    "    # Using SVD method with reduced accuracy\n",
    "    op.lipschitz = op.estimate_lipschitz(method=\"svd\", tol=1e-3)\n",
    "    \n",
    "    ```\n",
    "\n",
    "> **Note 📝**: The Frobenius and spectral norms are related by $\\|A\\|_2\\leq \\|A\\|_F\\leq \\sqrt{\\min(N,M)} \\|A\\|_2$."
   ]
  },
  {
   "cell_type": "markdown",
   "id": "f754fbed-33ac-4b0a-b76b-d08030216457",
   "metadata": {},
   "source": [
    "### Hands-On Example 🎓\n",
    "\n",
    "Here is a practical example:"
   ]
  },
  {
   "cell_type": "code",
   "execution_count": 20,
   "id": "c1e7381c-451e-4ec5-b8c2-abf75cf74d5d",
   "metadata": {},
   "outputs": [],
   "source": [
    "from pyxu.abc import LinOp\n",
    "import numpy as np\n",
    "\n",
    "rand_op = LinOp.from_array(np.random.random((10000, 10000)))"
   ]
  },
  {
   "cell_type": "code",
   "execution_count": 13,
   "id": "f0c224d8-ab8b-402f-95c3-3b4a495c553a",
   "metadata": {},
   "outputs": [
    {
     "data": {
      "text/plain": [
       "inf"
      ]
     },
     "execution_count": 13,
     "metadata": {},
     "output_type": "execute_result"
    }
   ],
   "source": [
    "rand_op.lipschitz # Unknown as this stage"
   ]
  },
  {
   "cell_type": "code",
   "execution_count": 14,
   "id": "717d9d20-2749-423c-9ed9-b4b038ace125",
   "metadata": {},
   "outputs": [
    {
     "name": "stdout",
     "output_type": "stream",
     "text": [
      "1.24 s ± 46.2 ms per loop (mean ± std. dev. of 7 runs, 1 loop each)\n"
     ]
    }
   ],
   "source": [
    "%%timeit\n",
    "rand_op.lipschitz = rand_op.estimate_lipschitz(method=\"trace\")"
   ]
  },
  {
   "cell_type": "code",
   "execution_count": 15,
   "id": "85bc0e7d-15e7-45e8-9066-b2b57170846a",
   "metadata": {},
   "outputs": [
    {
     "data": {
      "text/plain": [
       "5773.338690517102"
      ]
     },
     "execution_count": 15,
     "metadata": {},
     "output_type": "execute_result"
    }
   ],
   "source": [
    "rand_op.lipschitz # Rough estimate"
   ]
  },
  {
   "cell_type": "code",
   "execution_count": 18,
   "id": "fe2d9e1b-4021-485a-89fc-1f18d7606e1a",
   "metadata": {},
   "outputs": [
    {
     "name": "stdout",
     "output_type": "stream",
     "text": [
      "1.55 s ± 145 ms per loop (mean ± std. dev. of 7 runs, 1 loop each)\n"
     ]
    }
   ],
   "source": [
    "%%timeit\n",
    "rand_op.lipschitz = rand_op.estimate_lipschitz(method=\"svd\", tol=1e-2)"
   ]
  },
  {
   "cell_type": "code",
   "execution_count": 19,
   "id": "bafa1960-2524-4f83-acfe-65fd18d2a77c",
   "metadata": {},
   "outputs": [
    {
     "data": {
      "text/plain": [
       "5000.371789771333"
      ]
     },
     "execution_count": 19,
     "metadata": {},
     "output_type": "execute_result"
    }
   ],
   "source": [
    "rand_op.lipschitz # Tighter estimate"
   ]
  },
  {
   "cell_type": "markdown",
   "id": "fafa3709-b913-4cf7-8796-baf9808338f2",
   "metadata": {},
   "source": [
    "## Operator Algebra and Lipschitz Constant Propagation\n",
    "\n",
    "Whenever possible, Lipschitz constants are propagated automatically by Pyxu's operator algebra logic, e.g.:\n",
    "\n",
    "```python\n",
    ">> op1 = difffunc * linop;  \n",
    ">> op1.lipschitz == difffunc.lipschitz * linop.lipschitz\n",
    "True\n",
    ">> op1.diff_lipschitz == difffunc.diff_lipschitz * (linop.lipschitz ** 2) \n",
    "True\n",
    ">> op2 = linop * diffmap;  \n",
    ">> op2.diff_lipschitz == linop.lipschitz * diffmap.diff_lipschitz\n",
    "True\n",
    "... \n",
    "```\n",
    "\n",
    "More details on this feature can be found in the [API reference](../api/index.html) under `pyxu.abc.arithmetic`[🔗](../api/abc/arithmetic.html#).\n",
    "\n",
    "> **Note 📝**: While the propagated constants are usually good enough for step size tuning, they may not always be the tightest estimates.\n",
    "\n",
    "And there you have it! With Pyxu, you're well-equipped to handle Lipschitz constants effectively, setting you on a smooth path towards optimization success. 🚀"
   ]
  }
 ],
 "metadata": {
  "kernelspec": {
   "display_name": "Python 3 (ipykernel)",
   "language": "python",
   "name": "python3"
  },
  "language_info": {
   "codemirror_mode": {
    "name": "ipython",
    "version": 3
   },
   "file_extension": ".py",
   "mimetype": "text/x-python",
   "name": "python",
   "nbconvert_exporter": "python",
   "pygments_lexer": "ipython3",
   "version": "3.11.5"
  }
 },
 "nbformat": 4,
 "nbformat_minor": 5
}
