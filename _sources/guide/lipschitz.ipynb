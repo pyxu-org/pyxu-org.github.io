{
 "cells": [
  {
   "cell_type": "markdown",
   "id": "6d85e288-a4be-4453-9a9d-b419d68bf088",
   "metadata": {},
   "source": [
    "# Lipschitz Constants and Automatic Step Size Tuning\n",
    "\n",
    "## Introduction to Lipschitz Constants\n",
    "\n",
    "In mathematical terms, a function $f: \\mathbb{R}^n \\rightarrow \\mathbb{R}^m$ is said to be *Lipschitz continuous* if\n",
    "there exists a constant $L$ such that for every pair of points $x, y \\in \\mathbb{R}^n$, the following inequality holds:\n",
    "\n",
    "$$\n",
    "\\| f(x) - f(y) \\| \\leq L \\| x - y \\|.\n",
    "$$\n",
    "\n",
    "This equation essentially states that the change in the function's output cannot be faster than $L$ times the change in\n",
    "the input. In simpler terms, a Lipschitz continuous function doesn't change too abruptly; it has a 'speed limit' defined\n",
    "by its Lipschitz constant ($L$). For more in-depth knowledge, check the [Wikipedia page on Lipschitz\n",
    "Continuity](https://en.wikipedia.org/wiki/Lipschitz_continuity).\n",
    "\n",
    "Lipschitz constants are valuable tools in the realm of optimization, particularly for gradient-based methods like\n",
    "gradient descent. Knowing the Lipschitz constant can help you set an effective step size, thereby ensuring stable and\n",
    "faster convergence. However, computing these constants can be challenging. \n",
    "\n",
    "Good news! Pyxu offers unique features to automatically compute or estimate Lipschitz constants, making your life\n",
    "easier. Let's dive into the details. 🌟\n",
    "\n",
    "## Accessing Lipschitz Constants\n",
    "\n",
    "Pyxu operators come equipped with `lipschitz`[🔗](../api/abc.html#pyxu.abc.Map.lipschitz) and\n",
    "`diff_lipschitz`[🔗](../api/abc.html#pyxu.abc.DiffMap.diff_lipschitz) attributes which stores the Lipschitz constants of\n",
    "maps and their derivatives (if defined), respectively. These constants are leveraged under the hood by Pyxu to auto-tune\n",
    "the step sizes in various optimization algorithms.\n",
    "\n",
    "```python\n",
    "# Access Lipschitz constant of an operator 'op'\n",
    "L = op.lipschitz\n",
    "```\n",
    "\n",
    "## Estimating Lipschitz Constants\n",
    "\n",
    "For user-defined or complicated operators where Lipschitz constants are unknown, you can estimate them using the\n",
    "`estimate_lipschitz()`[🔗](../api/abc.html#pyxu.abc.Map.estimate_lipschitz) method.\n",
    "\n",
    "```python\n",
    "# Estimate Lipschitz constant and update the attribute\n",
    "L = op.estimate_lipschitz()\n",
    "op.lipschitz = L\n",
    "```\n",
    "\n",
    "### Supported Backends 🎛️\n",
    "\n",
    "Some operators offer several ways to estimate Lipschitz constants. When operators support this, their respective\n",
    "`estimate_lipschitz()` or `estimate_diff_lipschitz()` methods document any extra parameters they may accept.\n",
    "`LinOp()`[🔗](../api/abc.html#pyxu.abc.LinOp) in particular offers several methods to estimate its Lipschitz constants,\n",
    "among which:\n",
    "\n",
    "1. **Trace Method (**`trace`**)**: This is the default and computationally lighter option. It computes a rough estimate\n",
    "   using the Frobenius norm of the operator, making use of the [Hutch++ stochastic algorithm](https://arxiv.org/abs/2010.09649):\n",
    "\n",
    "   ```python\n",
    "   # Using trace method\n",
    "   op.lipschitz = op.estimate_lipschitz(method=\"trace\")\n",
    "   ```\n",
    "\n",
    "2. **SVD Method (**`svd`**)**: This method computes the spectral norm of the operator and generally provides a tighter\n",
    "   Lipschitz constant. However, it can be computationally intensive for large operators. A reduced-accuracy mode is\n",
    "   available for quicker (but slightly overestimated) constants:\n",
    "\n",
    "   ```python\n",
    "   # Using SVD method with reduced accuracy\n",
    "   op.lipschitz = op.estimate_lipschitz(method=\"svd\", tol=1e-3)\n",
    "   ```\n",
    "\n",
    "> **Note 📝**: The Frobenius and spectral norms of $A: \\mathbb{R}^{M} \\to \\mathbb{R}^{N}$ are related by $\\|A\\|_2\\leq\n",
    "> \\|A\\|_F\\leq \\sqrt{\\min(N,M)} \\|A\\|_2$."
   ]
  },
  {
   "cell_type": "markdown",
   "id": "f754fbed-33ac-4b0a-b76b-d08030216457",
   "metadata": {},
   "source": [
    "### Hands-On Example 🎓\n",
    "\n",
    "Here is a practical example:"
   ]
  },
  {
   "cell_type": "code",
   "execution_count": 1,
   "id": "c1e7381c-451e-4ec5-b8c2-abf75cf74d5d",
   "metadata": {
    "ExecuteTime": {
     "end_time": "2024-01-22T16:35:13.614310795Z",
     "start_time": "2024-01-22T16:35:10.560354260Z"
    }
   },
   "outputs": [],
   "source": [
    "from pyxu.abc import LinOp\n",
    "import numpy as np\n",
    "\n",
    "rand_op = LinOp.from_array(np.random.random((10000, 10000)))"
   ]
  },
  {
   "cell_type": "code",
   "execution_count": 2,
   "id": "f0c224d8-ab8b-402f-95c3-3b4a495c553a",
   "metadata": {
    "ExecuteTime": {
     "end_time": "2024-01-22T16:35:13.623844515Z",
     "start_time": "2024-01-22T16:35:13.616129760Z"
    }
   },
   "outputs": [
    {
     "data": {
      "text/plain": "inf"
     },
     "execution_count": 2,
     "metadata": {},
     "output_type": "execute_result"
    }
   ],
   "source": [
    "rand_op.lipschitz  # Unknown as this stage"
   ]
  },
  {
   "cell_type": "code",
   "execution_count": 3,
   "id": "717d9d20-2749-423c-9ed9-b4b038ace125",
   "metadata": {
    "ExecuteTime": {
     "end_time": "2024-01-22T16:35:22.647058957Z",
     "start_time": "2024-01-22T16:35:13.627318780Z"
    }
   },
   "outputs": [
    {
     "name": "stdout",
     "output_type": "stream",
     "text": [
      "1.12 s ± 91.1 ms per loop (mean ± std. dev. of 7 runs, 1 loop each)\n"
     ]
    }
   ],
   "source": [
    "%%timeit\n",
    "rand_op.lipschitz = rand_op.estimate_lipschitz(method=\"trace\")"
   ]
  },
  {
   "cell_type": "code",
   "execution_count": 4,
   "id": "85bc0e7d-15e7-45e8-9066-b2b57170846a",
   "metadata": {
    "ExecuteTime": {
     "end_time": "2024-01-22T16:35:22.658958444Z",
     "start_time": "2024-01-22T16:35:22.648041616Z"
    }
   },
   "outputs": [
    {
     "data": {
      "text/plain": "5773.825067429628"
     },
     "execution_count": 4,
     "metadata": {},
     "output_type": "execute_result"
    }
   ],
   "source": [
    "rand_op.lipschitz  # Rough estimate"
   ]
  },
  {
   "cell_type": "code",
   "execution_count": 5,
   "id": "fe2d9e1b-4021-485a-89fc-1f18d7606e1a",
   "metadata": {
    "ExecuteTime": {
     "end_time": "2024-01-22T16:35:33.831815898Z",
     "start_time": "2024-01-22T16:35:22.662192521Z"
    }
   },
   "outputs": [
    {
     "name": "stdout",
     "output_type": "stream",
     "text": [
      "1.38 s ± 220 ms per loop (mean ± std. dev. of 7 runs, 1 loop each)\n"
     ]
    }
   ],
   "source": [
    "%%timeit\n",
    "rand_op.lipschitz = rand_op.estimate_lipschitz(method=\"svd\", tol=1e-2)"
   ]
  },
  {
   "cell_type": "code",
   "execution_count": 6,
   "id": "bafa1960-2524-4f83-acfe-65fd18d2a77c",
   "metadata": {
    "ExecuteTime": {
     "end_time": "2024-01-22T16:35:33.839337695Z",
     "start_time": "2024-01-22T16:35:33.830257219Z"
    }
   },
   "outputs": [
    {
     "data": {
      "text/plain": "4999.816657444895"
     },
     "execution_count": 6,
     "metadata": {},
     "output_type": "execute_result"
    }
   ],
   "source": [
    "rand_op.lipschitz # Tighter estimate"
   ]
  },
  {
   "cell_type": "markdown",
   "id": "fafa3709-b913-4cf7-8796-baf9808338f2",
   "metadata": {},
   "source": [
    "## Operator Algebra and Lipschitz Constant Propagation\n",
    "\n",
    "Whenever possible, Lipschitz constants are propagated automatically by Pyxu's operator algebra logic.  More details on\n",
    "this feature can be found in the [API reference](../api/index.html) under\n",
    "`pyxu.abc.arithmetic`[🔗](../api/abc/arithmetic.html).\n",
    "\n",
    "> **Note 📝**: While the propagated constants are usually good enough for step size tuning, they may not always be the\n",
    "> tightest estimates.  You can always call `estimate_lipschitz()` again on arithmetic-produced operators to\n",
    "> force-compute a tighter Lipschitz constant if needed.\n",
    "\n",
    "```\n",
    "op = op1 * op2  # arithmetic-induced operator\n",
    "op.lipschitz  # => 50 (example value from cheap Lipschitz propagation.)\n",
    "op.lipschitz = op.estimate_lipschitz()  # => 3 (re-compute a Lipschitz constant.)\n",
    "```\n",
    "\n",
    "And there you have it! With Pyxu, you're well-equipped to handle Lipschitz constants effectively, setting you on a\n",
    "smooth path towards optimization success. 🚀"
   ]
  }
 ],
 "metadata": {
  "kernelspec": {
   "display_name": "Python 3 (ipykernel)",
   "language": "python",
   "name": "python3"
  },
  "language_info": {
   "codemirror_mode": {
    "name": "ipython",
    "version": 3
   },
   "file_extension": ".py",
   "mimetype": "text/x-python",
   "name": "python",
   "nbconvert_exporter": "python",
   "pygments_lexer": "ipython3",
   "version": "3.11.4"
  }
 },
 "nbformat": 4,
 "nbformat_minor": 5
}
